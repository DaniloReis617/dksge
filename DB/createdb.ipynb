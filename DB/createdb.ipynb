{
 "cells": [
  {
   "cell_type": "code",
   "execution_count": 7,
   "metadata": {},
   "outputs": [],
   "source": [
    "# DB/database.py\n",
    "import sqlite3\n",
    "\n",
    "# Conectar ao banco de dados SQLite\n",
    "conn = sqlite3.connect('loteria.db')\n",
    "c = conn.cursor()\n",
    "\n",
    "# Criar tabela de Usuários\n",
    "c.execute('''CREATE TABLE IF NOT EXISTS usuarios (\n",
    "             id INTEGER PRIMARY KEY,\n",
    "             username TEXT NOT NULL,\n",
    "             password TEXT NOT NULL\n",
    "             )''')\n",
    "\n",
    "# Criar tabela de Jogos\n",
    "c.execute('''CREATE TABLE IF NOT EXISTS jogos (\n",
    "             id INTEGER PRIMARY KEY,\n",
    "             usuario_id INTEGER NOT NULL,\n",
    "             numeros_jogados TEXT,\n",
    "             resultado INTEGER,\n",
    "             FOREIGN KEY (usuario_id) REFERENCES usuarios (id)\n",
    "             )''')\n",
    "\n",
    "# Criar tabela de Backlog (para registro de dados de simulação)\n",
    "c.execute('''CREATE TABLE IF NOT EXISTS backlog (\n",
    "             id INTEGER PRIMARY KEY,\n",
    "             usuario_id INTEGER NOT NULL,\n",
    "             numeros_simulados TEXT,\n",
    "             data_simulacao TIMESTAMP DEFAULT CURRENT_TIMESTAMP,\n",
    "             FOREIGN KEY (usuario_id) REFERENCES usuarios (id)\n",
    "             )''')\n",
    "\n",
    "# Commit e fechar conexão\n",
    "conn.commit()\n",
    "conn.close()\n"
   ]
  },
  {
   "cell_type": "code",
   "execution_count": 8,
   "metadata": {},
   "outputs": [
    {
     "name": "stdout",
     "output_type": "stream",
     "text": [
      "Campos da tabela Usuarios:\n",
      "  id (INTEGER)\n",
      "  nome (TEXT)\n",
      "  email (TEXT)\n",
      "  senha (TEXT)\n",
      "\n",
      "Registros da tabela Usuarios:\n",
      "\n",
      "Campos da tabela Jogos:\n",
      "  id (INTEGER)\n",
      "  usuario_id (INTEGER)\n",
      "  jogo (TEXT)\n",
      "  data_criacao (TEXT)\n",
      "\n",
      "Registros da tabela Jogos:\n"
     ]
    }
   ],
   "source": [
    "import sqlite3\n",
    "\n",
    "# Criar conexão com o banco de dados\n",
    "conn = sqlite3.connect('database.db')\n",
    "c = conn.cursor()\n",
    "\n",
    "# Verificar campos da tabela Usuarios\n",
    "c.execute(\"PRAGMA table_info(Usuarios)\")\n",
    "print(\"Campos da tabela Usuarios:\")\n",
    "for row in c.fetchall():\n",
    "    print(f\"  {row[1]} ({row[2]})\")\n",
    "\n",
    "# Verificar registros da tabela Usuarios\n",
    "c.execute(\"SELECT * FROM Usuarios\")\n",
    "print(\"\\nRegistros da tabela Usuarios:\")\n",
    "for row in c.fetchall():\n",
    "    print(f\"  {row}\")\n",
    "\n",
    "# Verificar campos da tabela Jogos\n",
    "c.execute(\"PRAGMA table_info(Jogos)\")\n",
    "print(\"\\nCampos da tabela Jogos:\")\n",
    "for row in c.fetchall():\n",
    "    print(f\"  {row[1]} ({row[2]})\")\n",
    "\n",
    "# Verificar registros da tabela Jogos\n",
    "c.execute(\"SELECT * FROM Jogos\")\n",
    "print(\"\\nRegistros da tabela Jogos:\")\n",
    "for row in c.fetchall():\n",
    "    print(f\"  {row}\")\n",
    "\n",
    "# Fechar a conexão\n",
    "conn.close()"
   ]
  }
 ],
 "metadata": {
  "kernelspec": {
   "display_name": "venv",
   "language": "python",
   "name": "python3"
  },
  "language_info": {
   "codemirror_mode": {
    "name": "ipython",
    "version": 3
   },
   "file_extension": ".py",
   "mimetype": "text/x-python",
   "name": "python",
   "nbconvert_exporter": "python",
   "pygments_lexer": "ipython3",
   "version": "3.11.9"
  }
 },
 "nbformat": 4,
 "nbformat_minor": 2
}
